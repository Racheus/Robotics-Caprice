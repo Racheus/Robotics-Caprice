{
 "cells": [
  {
   "cell_type": "code",
   "execution_count": 2,
   "metadata": {},
   "outputs": [],
   "source": [
    "import roboticstoolbox as rtb\n",
    "from spatialmath import SE3\n",
    "import numpy as np"
   ]
  },
  {
   "cell_type": "code",
   "execution_count": 3,
   "metadata": {},
   "outputs": [],
   "source": [
    "robot = rtb.DHRobot([\n",
    "    rtb.RevoluteDH(d=0.3, a=0.0, alpha=np.pi/2),\n",
    "    rtb.RevoluteDH(d=0.0, a=0.3, alpha=0),\n",
    "    rtb.RevoluteDH(d=0.0, a=0.2, alpha=0)\n",
    "], name='my_robot')"
   ]
  },
  {
   "cell_type": "code",
   "execution_count": 4,
   "metadata": {},
   "outputs": [
    {
     "name": "stdout",
     "output_type": "stream",
     "text": [
      "DHRobot: my_robot, 3 joints (RRR), dynamics, standard DH parameters\n",
      "┌────┬─────┬─────┬───────┐\n",
      "│θⱼ  │ dⱼ  │ aⱼ  │  ⍺ⱼ   │\n",
      "├────┼─────┼─────┼───────┤\n",
      "│ q1 │ 0.3 │   0 │ 90.0° │\n",
      "│ q2 │   0 │ 0.3 │  0.0° │\n",
      "│ q3 │   0 │ 0.2 │  0.0° │\n",
      "└────┴─────┴─────┴───────┘\n",
      "\n",
      "┌─┬──┐\n",
      "└─┴──┘\n",
      "\n"
     ]
    }
   ],
   "source": [
    "print(robot)"
   ]
  },
  {
   "cell_type": "code",
   "execution_count": 7,
   "metadata": {},
   "outputs": [
    {
     "name": "stdout",
     "output_type": "stream",
     "text": [
      "<class 'spatialmath.pose3d.SE3'>\n"
     ]
    },
    {
     "data": {
      "text/plain": [
       "   0         1         0         0.5       \n",
       "   0         0         1         0.3       \n",
       "   1         0         0         0.4       \n",
       "   0         0         0         1         \n"
      ]
     },
     "execution_count": 7,
     "metadata": {},
     "output_type": "execute_result"
    }
   ],
   "source": [
    "T = SE3(0.5, 0.3, 0.4) * SE3.OA([1, 0, 0], [0, 1, 0])\n",
    "print(type(T))\n",
    "T"
   ]
  },
  {
   "cell_type": "code",
   "execution_count": 10,
   "metadata": {},
   "outputs": [
    {
     "data": {
      "text/plain": [
       "IKSolution(q=array([ 3.22037828, -2.9495287 , -1.71875327]), success=False, iterations=3000, searches=100, residual=0.06263469887426532, reason='iteration and search limit reached')"
      ]
     },
     "execution_count": 10,
     "metadata": {},
     "output_type": "execute_result"
    }
   ],
   "source": [
    "solution = robot.ikine_LM(T) \n",
    "solution"
   ]
  },
  {
   "cell_type": "code",
   "execution_count": 12,
   "metadata": {},
   "outputs": [
    {
     "data": {
      "text/plain": [
       "IKSolution(q=array([-3.08936763, -2.89118744,  4.51045033]), success=False, iterations=3000, searches=100, residual=0.37438015074578673, reason='iteration and search limit reached')"
      ]
     },
     "execution_count": 12,
     "metadata": {},
     "output_type": "execute_result"
    }
   ],
   "source": [
    "T_prime = np.array([0,1,0,0.5,0,0,1,0.3,0,0,-1,0.4,0,0,0,1]).reshape(4,4)\n",
    "solution_prime = robot.ikine_LM(T_prime)\n",
    "solution_prime"
   ]
  }
 ],
 "metadata": {
  "kernelspec": {
   "display_name": "base",
   "language": "python",
   "name": "python3"
  },
  "language_info": {
   "codemirror_mode": {
    "name": "ipython",
    "version": 3
   },
   "file_extension": ".py",
   "mimetype": "text/x-python",
   "name": "python",
   "nbconvert_exporter": "python",
   "pygments_lexer": "ipython3",
   "version": "3.9.13"
  }
 },
 "nbformat": 4,
 "nbformat_minor": 2
}
